{
 "cells": [
  {
   "cell_type": "markdown",
   "metadata": {},
   "source": [
    "# Home work 1"
   ]
  },
  {
   "cell_type": "code",
   "execution_count": 1,
   "metadata": {},
   "outputs": [],
   "source": [
    "# presetings\n",
    "import numpy as np"
   ]
  },
  {
   "cell_type": "markdown",
   "metadata": {},
   "source": [
    "1. Create a one-dimensional array (vector) with the first 10 natural numbers and output its value."
   ]
  },
  {
   "cell_type": "code",
   "execution_count": 2,
   "metadata": {},
   "outputs": [
    {
     "name": "stdout",
     "output_type": "stream",
     "text": [
      "[ 1  2  3  4  5  6  7  8  9 10]\n"
     ]
    }
   ],
   "source": [
    "vector1 = np.arange(1, 11)\n",
    "\n",
    "print(vector1)"
   ]
  },
  {
   "cell_type": "markdown",
   "metadata": {},
   "source": [
    "2. Create a 3x3 two-dimensional array (matrix), fill it with zeros, and output its values."
   ]
  },
  {
   "cell_type": "code",
   "execution_count": 3,
   "metadata": {},
   "outputs": [
    {
     "name": "stdout",
     "output_type": "stream",
     "text": [
      "\n",
      " [[0. 0. 0.]\n",
      " [0. 0. 0.]\n",
      " [0. 0. 0.]]\n"
     ]
    }
   ],
   "source": [
    "matrix1 = np.zeros((3, 3))\n",
    "print(\"\\n\", matrix1)"
   ]
  },
  {
   "cell_type": "markdown",
   "metadata": {},
   "source": [
    "3. Create a 5x5 array, fill it with random integers from 1 to 10, and output its value."
   ]
  },
  {
   "cell_type": "code",
   "execution_count": 4,
   "metadata": {},
   "outputs": [
    {
     "name": "stdout",
     "output_type": "stream",
     "text": [
      "\n",
      " [[ 8  9 10  3  7]\n",
      " [ 5  4  6  8  8]\n",
      " [ 9  3 10  1  6]\n",
      " [ 3 10  2  6  7]\n",
      " [ 7  4  4  4  9]]\n"
     ]
    }
   ],
   "source": [
    "matrix2 = np.random.randint(1, 11, size=(5, 5))\n",
    "print(\"\\n\", matrix2)"
   ]
  },
  {
   "cell_type": "markdown",
   "metadata": {},
   "source": [
    "4. Create a 4x4 array, fill it with random real numbers in the range 0 to 1, and output its value."
   ]
  },
  {
   "cell_type": "code",
   "execution_count": 5,
   "metadata": {},
   "outputs": [
    {
     "name": "stdout",
     "output_type": "stream",
     "text": [
      "\n",
      " [[0.4068092  0.09673505 0.06892999 0.41965735]\n",
      " [0.14496147 0.19750458 0.88179608 0.62317844]\n",
      " [0.46434615 0.92057001 0.97153769 0.0015101 ]\n",
      " [0.13860206 0.50076622 0.65794431 0.44047802]]\n"
     ]
    }
   ],
   "source": [
    "matrix3 = np.random.rand(4, 4)\n",
    "print(matrix3)"
   ]
  },
  {
   "cell_type": "markdown",
   "metadata": {},
   "source": [
    "5. Create two one-dimensional arrays of size 5, fill them with random integers from 1 to 10, and perform element-by-element addition, subtraction, and multiplication operations on them."
   ]
  },
  {
   "cell_type": "code",
   "execution_count": 23,
   "metadata": {},
   "outputs": [
    {
     "name": "stdout",
     "output_type": "stream",
     "text": [
      "\n",
      " First vector: [10  6  6  5  8]\n",
      "Second vector: [ 4 10  3  1  3]\n",
      "      Vectors addition: [14 16  9  6 11]\n",
      "   Vectors subtraction: [ 6 -4  3  4  5]\n",
      "Vectors multiplication: [40 60 18  5 24]\n"
     ]
    }
   ],
   "source": [
    "array1 = np.random.randint(1, 11, size=5)\n",
    "array2 = np.random.randint(1, 11, size=5)\n",
    "print(\"\\n\", \"First vector:\", array1)\n",
    "print(\"Second vector:\", array2)\n",
    "print(\"      Vectors addition:\", array1 + array2)\n",
    "print(\"   Vectors subtraction:\", array1 - array2)\n",
    "print(\"Vectors multiplication:\", array1 * array2)"
   ]
  },
  {
   "cell_type": "markdown",
   "metadata": {},
   "source": [
    "6. Create two vectors of size 7, fill with arbitrary numbers and find their scalar product."
   ]
  },
  {
   "cell_type": "code",
   "execution_count": 49,
   "metadata": {},
   "outputs": [
    {
     "name": "stdout",
     "output_type": "stream",
     "text": [
      "\n",
      " First vector:\n",
      "[0.1640456  0.78369562 0.20697548 0.29587044 0.76578604 0.40272524\n",
      " 0.42398781]\n",
      "\n",
      " Second vector:\n",
      "[0.38437638 0.01460583 0.60306413 0.10234906 0.5642213  0.70388875\n",
      " 0.62745212]\n",
      "\n",
      " Scalar product: 1.2111819370065509\n"
     ]
    }
   ],
   "source": [
    "vector2 = np.random.rand(7)\n",
    "vector3 = np.random.rand(7)\n",
    "dot_product = np.dot(vector2, vector3)\n",
    "print(\"\\n\", \"First vector:\")\n",
    "print(vector2)\n",
    "print(\"\\n\", \"Second vector:\")\n",
    "print(vector3)\n",
    "print(\"\\n\", \"Scalar product:\", dot_product)"
   ]
  },
  {
   "cell_type": "markdown",
   "metadata": {},
   "source": [
    "7. Create two matrices of size 2x2 and 2x3, fill them with random integers between 1 and 10, and multiply them together."
   ]
  },
  {
   "cell_type": "code",
   "execution_count": 50,
   "metadata": {},
   "outputs": [
    {
     "name": "stdout",
     "output_type": "stream",
     "text": [
      "\n",
      " First matrix 2x2:\n",
      "[[4 3]\n",
      " [5 6]]\n",
      "\n",
      " Second matrix 2x3:\n",
      "[[ 7  9  3]\n",
      " [ 3  9 10]]\n",
      "\n",
      " Multiplation matrix:\n",
      "[[37 63 42]\n",
      " [53 99 75]]\n"
     ]
    }
   ],
   "source": [
    "matrix4 = np.random.randint(1, 11, size=(2, 2))\n",
    "matrix5 = np.random.randint(1, 11, size=(2, 3))\n",
    "\n",
    "matrix_product = np.dot(matrix4, matrix5)\n",
    "print(\"\\n\", \"First matrix 2x2:\")\n",
    "print(matrix4)\n",
    "print(\"\\n\", \"Second matrix 2x3:\")\n",
    "print(matrix5)\n",
    "print(\"\\n\", \"Multiplation matrix:\")\n",
    "print(matrix_product)"
   ]
  },
  {
   "cell_type": "markdown",
   "metadata": {},
   "source": [
    "8. Create a 3x3 matrix, fill it with random integers from 1 to 10, and find its inverse."
   ]
  },
  {
   "cell_type": "code",
   "execution_count": 51,
   "metadata": {},
   "outputs": [
    {
     "name": "stdout",
     "output_type": "stream",
     "text": [
      "\n",
      " Matrix:\n",
      "[[2 9 4]\n",
      " [1 1 6]\n",
      " [7 3 8]]\n",
      "\n",
      " Inverse matrix:\n",
      "[[-0.03703704 -0.22222222  0.18518519]\n",
      " [ 0.12592593 -0.04444444 -0.02962963]\n",
      " [-0.01481481  0.21111111 -0.02592593]]\n"
     ]
    }
   ],
   "source": [
    "matrix6 = np.random.randint(1, 11, size=(3, 3))\n",
    "\n",
    "inverse_matrix = np.linalg.inv(matrix6)\n",
    "print(\"\\n\", \"Matrix:\")\n",
    "print(matrix6)\n",
    "print(\"\\n\", \"Inverse matrix:\")\n",
    "print(inverse_matrix)"
   ]
  },
  {
   "cell_type": "markdown",
   "metadata": {},
   "source": [
    "9. Create a 4x4 matrix, fill it with random real numbers between 0 and 1, and transpose it."
   ]
  },
  {
   "cell_type": "code",
   "execution_count": 52,
   "metadata": {},
   "outputs": [
    {
     "name": "stdout",
     "output_type": "stream",
     "text": [
      "\n",
      " Matrix:\n",
      "[[0.06325767 0.65027982 0.72832845 0.60372226]\n",
      " [0.24285885 0.0129205  0.3184784  0.58023028]\n",
      " [0.40386772 0.28856859 0.42230172 0.87888175]\n",
      " [0.19891189 0.66112192 0.23134441 0.09288225]]\n",
      "\n",
      " Transposed matrix:\n",
      "[[0.06325767 0.24285885 0.40386772 0.19891189]\n",
      " [0.65027982 0.0129205  0.28856859 0.66112192]\n",
      " [0.72832845 0.3184784  0.42230172 0.23134441]\n",
      " [0.60372226 0.58023028 0.87888175 0.09288225]]\n"
     ]
    }
   ],
   "source": [
    "matrix7 = np.random.rand(4, 4)\n",
    "\n",
    "transposed_matrix = np.transpose(matrix7)\n",
    "print(\"\\n\", \"Matrix:\")\n",
    "print(matrix7)\n",
    "print(\"\\n\", \"Transposed matrix:\")\n",
    "print(transposed_matrix)"
   ]
  },
  {
   "cell_type": "markdown",
   "metadata": {},
   "source": [
    "10. Create a 3x4 matrix and a vector with 4 shape, fill them with random integers between 1 and 10, and multiply the matrix by the vector."
   ]
  },
  {
   "cell_type": "code",
   "execution_count": 53,
   "metadata": {},
   "outputs": [
    {
     "name": "stdout",
     "output_type": "stream",
     "text": [
      "\n",
      " Matrix:\n",
      "[[ 1  3  6  7]\n",
      " [ 5  9  6  1]\n",
      " [ 3  9 10  7]]\n",
      "\n",
      " Vector:\n",
      "[7 4 5 9]\n",
      "\n",
      " Result:\n",
      "[112 110 170]\n"
     ]
    }
   ],
   "source": [
    "matrix8 = np.random.randint(1, 11, size=(3, 4))\n",
    "vector4 = np.random.randint(1, 11, size=4)\n",
    "\n",
    "result_vector = np.dot(matrix8, vector4)\n",
    "print(\"\\n\", \"Matrix:\")\n",
    "print(matrix8)\n",
    "print(\"\\n\", \"Vector:\")\n",
    "print(vector4)\n",
    "print(\"\\n\", \"Result:\")\n",
    "print(result_vector)"
   ]
  },
  {
   "cell_type": "markdown",
   "metadata": {},
   "source": [
    "11. Create a 2x3 matrix and a 3 vector, fill them with random real numbers between 0 and 1, and multiply the matrix by the vector."
   ]
  },
  {
   "cell_type": "code",
   "execution_count": 54,
   "metadata": {},
   "outputs": [
    {
     "name": "stdout",
     "output_type": "stream",
     "text": [
      "\n",
      " Matrix:\n",
      "[[0.44883662 0.38082151 0.35962062]\n",
      " [0.70004605 0.89761191 0.21722139]]\n",
      "\n",
      " Vecto:\n",
      "[0.48680742 0.46620243 0.87788483]\n",
      "\n",
      " Result:\n",
      "[0.7117424  0.94995183]\n"
     ]
    }
   ],
   "source": [
    "matrix9 = np.random.rand(2, 3)\n",
    "vector5 = np.random.rand(3)\n",
    "\n",
    "result_vector2 = np.dot(matrix9, vector5)\n",
    "print(\"\\n\", \"Matrix:\")\n",
    "print(matrix9)\n",
    "print(\"\\n\", \"Vecto:\")\n",
    "print(vector5)\n",
    "print(\"\\n\", \"Result:\")\n",
    "print(result_vector2)"
   ]
  },
  {
   "cell_type": "markdown",
   "metadata": {},
   "source": [
    "12. Create two 2x2 matrices, fill them with random integers between 1 and 10, and multiply them elementwise."
   ]
  },
  {
   "cell_type": "code",
   "execution_count": 55,
   "metadata": {},
   "outputs": [
    {
     "name": "stdout",
     "output_type": "stream",
     "text": [
      "\n",
      " First matrix:\n",
      "[[1 3]\n",
      " [2 7]]\n",
      "\n",
      " Second matrix:\n",
      "[[2 8]\n",
      " [3 1]]\n",
      "\n",
      " Result:\n",
      "[[ 2 24]\n",
      " [ 6  7]]\n"
     ]
    }
   ],
   "source": [
    "matrix10 = np.random.randint(1, 11, size=(2, 2))\n",
    "matrix11 = np.random.randint(1, 11, size=(2, 2))\n",
    "\n",
    "elementwise_multiplication = np.multiply(matrix10, matrix11)\n",
    "print(\"\\n\", \"First matrix:\")\n",
    "print(matrix10)\n",
    "print(\"\\n\", \"Second matrix:\")\n",
    "print(matrix11)\n",
    "print(\"\\n\", \"Result:\")\n",
    "print(elementwise_multiplication)"
   ]
  },
  {
   "cell_type": "markdown",
   "metadata": {},
   "source": [
    "13. Create two 2x2 matrices, fill them with random integers from 1 to 10, and find their product."
   ]
  },
  {
   "cell_type": "code",
   "execution_count": 56,
   "metadata": {},
   "outputs": [
    {
     "name": "stdout",
     "output_type": "stream",
     "text": [
      "\n",
      " First matrix:\n",
      "[[1 3]\n",
      " [2 7]]\n",
      "\n",
      " Second matrix:\n",
      "[[2 8]\n",
      " [3 1]]\n",
      "\n",
      " Result:\n",
      "[[11 11]\n",
      " [25 23]]\n"
     ]
    }
   ],
   "source": [
    "matrix_product2 = np.dot(matrix10, matrix11)\n",
    "print(\"\\n\", \"First matrix:\")\n",
    "print(matrix10)\n",
    "print(\"\\n\", \"Second matrix:\")\n",
    "print(matrix11)\n",
    "print(\"\\n\", \"Result:\")\n",
    "print(matrix_product2)"
   ]
  },
  {
   "cell_type": "markdown",
   "metadata": {},
   "source": [
    "14. Create a 5x5 matrix, fill it with random integers between 1 and 100, and find the sum of the matrix elements."
   ]
  },
  {
   "cell_type": "code",
   "execution_count": 57,
   "metadata": {},
   "outputs": [
    {
     "name": "stdout",
     "output_type": "stream",
     "text": [
      "\n",
      " Matrix:\n",
      "[[81 67 76 95 23]\n",
      " [37 22 26 37 69]\n",
      " [76 75 46 23 32]\n",
      " [41 32 65  6 60]\n",
      " [ 6 94 42 83  1]]\n",
      "\n",
      " Sum: 1215\n"
     ]
    }
   ],
   "source": [
    "matrix12 = np.random.randint(1, 101, size=(5, 5))\n",
    "\n",
    "sum_of_elements = np.sum(matrix12)\n",
    "print(\"\\n\", \"Matrix:\")\n",
    "print(matrix12)\n",
    "print(\"\\n\", \"Sum:\", sum_of_elements)"
   ]
  },
  {
   "cell_type": "markdown",
   "metadata": {},
   "source": [
    "15. Create two 4x4 matrices, fill them with random integers between 1 and 10, and find their difference."
   ]
  },
  {
   "cell_type": "code",
   "execution_count": 58,
   "metadata": {},
   "outputs": [
    {
     "name": "stdout",
     "output_type": "stream",
     "text": [
      "\n",
      " First matrix:\n",
      "[[10  3  4  4]\n",
      " [ 6  1 10  3]\n",
      " [ 7  7  6  1]\n",
      " [ 3  6  1  4]]\n",
      "\n",
      " Second matrix:\n",
      "[[ 8  3  8  1]\n",
      " [ 7  9  8  6]\n",
      " [ 9  9  5 10]\n",
      " [ 8  6  7  3]]\n",
      "\n",
      " Difference:\n",
      "[[ 2  0 -4  3]\n",
      " [-1 -8  2 -3]\n",
      " [-2 -2  1 -9]\n",
      " [-5  0 -6  1]]\n"
     ]
    }
   ],
   "source": [
    "matrix13 = np.random.randint(1, 11, size=(4, 4))\n",
    "matrix14 = np.random.randint(1, 11, size=(4, 4))\n",
    "\n",
    "matrix_difference = matrix13 - matrix14\n",
    "print(\"\\n\", \"First matrix:\")\n",
    "print(matrix13)\n",
    "print(\"\\n\", \"Second matrix:\")\n",
    "print(matrix14)\n",
    "print(\"\\n\", \"Difference:\")\n",
    "print(matrix_difference)"
   ]
  },
  {
   "cell_type": "markdown",
   "metadata": {},
   "source": [
    "16. Create a 3x3 matrix, fill it with random real numbers in the range 0 to 1, and find a column vector containing the sum of the elements of each row of the matrix."
   ]
  },
  {
   "cell_type": "code",
   "execution_count": 59,
   "metadata": {},
   "outputs": [
    {
     "name": "stdout",
     "output_type": "stream",
     "text": [
      "\n",
      " Matrix:\n",
      "[[0.8825397  0.29599291 0.80759312]\n",
      " [0.39899157 0.01661267 0.56123919]\n",
      " [0.15453441 0.74794501 0.87493907]]\n",
      "\n",
      " Sum:\n",
      "[1.98612573 0.97684342 1.77741849]\n"
     ]
    }
   ],
   "source": [
    "matrix15 = np.random.rand(3, 3)\n",
    "\n",
    "sum_rows = np.sum(matrix15, axis=1)\n",
    "print(\"\\n\", \"Matrix:\")\n",
    "print(matrix15)\n",
    "print(\"\\n\", \"Sum:\")\n",
    "print(sum_rows)"
   ]
  },
  {
   "cell_type": "markdown",
   "metadata": {},
   "source": [
    "17. Create a 3x4 matrix of arbitrary integers and create a matrix of the squares of those numbers."
   ]
  },
  {
   "cell_type": "code",
   "execution_count": 60,
   "metadata": {},
   "outputs": [
    {
     "name": "stdout",
     "output_type": "stream",
     "text": [
      "\n",
      " Matrix:\n",
      "[[ 1  9  6  1]\n",
      " [ 2 10  7  4]\n",
      " [ 8  1  9 10]]\n",
      "\n",
      " Squared matrix:\n",
      "[[  1  81  36   1]\n",
      " [  4 100  49  16]\n",
      " [ 64   1  81 100]]\n"
     ]
    }
   ],
   "source": [
    "matrix16 = np.random.randint(1, 11, size=(3, 4))\n",
    "\n",
    "squared_matrix = matrix16 ** 2\n",
    "print(\"\\n\", \"Matrix:\")\n",
    "print(matrix16)\n",
    "print(\"\\n\", \"Squared matrix:\")\n",
    "print(squared_matrix)"
   ]
  },
  {
   "cell_type": "markdown",
   "metadata": {},
   "source": [
    "18. Create a vector of size 4, fill it with random integers between 1 and 50, and find the square root vector of those numbers."
   ]
  },
  {
   "cell_type": "code",
   "execution_count": 61,
   "metadata": {},
   "outputs": [
    {
     "name": "stdout",
     "output_type": "stream",
     "text": [
      "\n",
      " Vector:\n",
      "[22 42 34 47]\n",
      "\n",
      " Squered vector:\n",
      "[4.69041576 6.4807407  5.83095189 6.8556546 ]\n"
     ]
    }
   ],
   "source": [
    "vector6 = np.random.randint(1, 51, size=4)\n",
    "\n",
    "squared_vector = np.sqrt(vector6)\n",
    "print(\"\\n\", \"Vector:\")\n",
    "print(vector6)\n",
    "print(\"\\n\", \"Squered vector:\")\n",
    "print(squared_vector)"
   ]
  }
 ],
 "metadata": {
  "kernelspec": {
   "display_name": "Python 3 (ipykernel)",
   "language": "python",
   "name": "python3"
  },
  "language_info": {
   "codemirror_mode": {
    "name": "ipython",
    "version": 3
   },
   "file_extension": ".py",
   "mimetype": "text/x-python",
   "name": "python",
   "nbconvert_exporter": "python",
   "pygments_lexer": "ipython3",
   "version": "3.9.13"
  }
 },
 "nbformat": 4,
 "nbformat_minor": 2
}
