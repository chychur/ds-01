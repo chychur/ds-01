{
 "cells": [
  {
   "cell_type": "markdown",
   "metadata": {},
   "source": [
    "# Home work 1"
   ]
  },
  {
   "cell_type": "code",
   "execution_count": 1,
   "metadata": {},
   "outputs": [],
   "source": [
    "# presetings\n",
    "import numpy as np"
   ]
  },
  {
   "cell_type": "markdown",
   "metadata": {},
   "source": [
    "1. Create a one-dimensional array (vector) with the first 10 natural numbers and output its value."
   ]
  },
  {
   "cell_type": "code",
   "execution_count": 2,
   "metadata": {},
   "outputs": [
    {
     "name": "stdout",
     "output_type": "stream",
     "text": [
      "[ 1  2  3  4  5  6  7  8  9 10]\n"
     ]
    }
   ],
   "source": [
    "vector1 = np.arange(1, 11)\n",
    "\n",
    "print(vector1)"
   ]
  },
  {
   "cell_type": "markdown",
   "metadata": {},
   "source": [
    "2. Create a 3x3 two-dimensional array (matrix), fill it with zeros, and output its values."
   ]
  },
  {
   "cell_type": "code",
   "execution_count": 3,
   "metadata": {},
   "outputs": [
    {
     "name": "stdout",
     "output_type": "stream",
     "text": [
      "\n",
      " [[0. 0. 0.]\n",
      " [0. 0. 0.]\n",
      " [0. 0. 0.]]\n"
     ]
    }
   ],
   "source": [
    "matrix1 = np.zeros((3, 3))\n",
    "print(\"\\n\", matrix1)"
   ]
  },
  {
   "cell_type": "markdown",
   "metadata": {},
   "source": [
    "3. Create a 5x5 array, fill it with random integers from 1 to 10, and output its value."
   ]
  },
  {
   "cell_type": "code",
   "execution_count": 4,
   "metadata": {},
   "outputs": [
    {
     "name": "stdout",
     "output_type": "stream",
     "text": [
      "\n",
      " [[ 8  9 10  3  7]\n",
      " [ 5  4  6  8  8]\n",
      " [ 9  3 10  1  6]\n",
      " [ 3 10  2  6  7]\n",
      " [ 7  4  4  4  9]]\n"
     ]
    }
   ],
   "source": [
    "matrix2 = np.random.randint(1, 11, size=(5, 5))\n",
    "print(\"\\n\", matrix2)"
   ]
  },
  {
   "cell_type": "markdown",
   "metadata": {},
   "source": [
    "4. Create a 4x4 array, fill it with random real numbers in the range 0 to 1, and output its value."
   ]
  },
  {
   "cell_type": "code",
   "execution_count": 5,
   "metadata": {},
   "outputs": [
    {
     "name": "stdout",
     "output_type": "stream",
     "text": [
      "\n",
      " [[0.4068092  0.09673505 0.06892999 0.41965735]\n",
      " [0.14496147 0.19750458 0.88179608 0.62317844]\n",
      " [0.46434615 0.92057001 0.97153769 0.0015101 ]\n",
      " [0.13860206 0.50076622 0.65794431 0.44047802]]\n"
     ]
    }
   ],
   "source": [
    "matrix3 = np.random.rand(4, 4)\n",
    "print(matrix3)"
   ]
  },
  {
   "cell_type": "markdown",
   "metadata": {},
   "source": [
    "5. Create two one-dimensional arrays of size 5, fill them with random integers from 1 to 10, and perform element-by-element addition, subtraction, and multiplication operations on them."
   ]
  },
  {
   "cell_type": "code",
   "execution_count": 23,
   "metadata": {},
   "outputs": [
    {
     "name": "stdout",
     "output_type": "stream",
     "text": [
      "\n",
      " First vector: [10  6  6  5  8]\n",
      "Second vector: [ 4 10  3  1  3]\n",
      "      Vectors addition: [14 16  9  6 11]\n",
      "   Vectors subtraction: [ 6 -4  3  4  5]\n",
      "Vectors multiplication: [40 60 18  5 24]\n"
     ]
    }
   ],
   "source": [
    "array1 = np.random.randint(1, 11, size=5)\n",
    "array2 = np.random.randint(1, 11, size=5)\n",
    "print(\"\\n\", \"First vector:\", array1)\n",
    "print(\"Second vector:\", array2)\n",
    "print(\"      Vectors addition:\", array1 + array2)\n",
    "print(\"   Vectors subtraction:\", array1 - array2)\n",
    "print(\"Vectors multiplication:\", array1 * array2)"
   ]
  },
  {
   "cell_type": "markdown",
   "metadata": {},
   "source": [
    "6. Create two vectors of size 7, fill with arbitrary numbers and find their scalar product."
   ]
  },
  {
   "cell_type": "code",
   "execution_count": 25,
   "metadata": {},
   "outputs": [
    {
     "name": "stdout",
     "output_type": "stream",
     "text": [
      "\n",
      " First vector:\n",
      "[0.96024239 0.53110603 0.98983358 0.27924651 0.61263928 0.89452875\n",
      " 0.56263874]\n",
      "Second vector:\n",
      "[0.94167173 0.48842107 0.74644563 0.06675678 0.72568031 0.93624213\n",
      " 0.40207859]\n",
      "Scalar product: 3.4294357847593413\n"
     ]
    }
   ],
   "source": [
    "vector2 = np.random.rand(7)\n",
    "vector3 = np.random.rand(7)\n",
    "dot_product = np.dot(vector2, vector3)\n",
    "print(\"\\n\", \"First vector:\")\n",
    "print(vector2)\n",
    "print(\"Second vector:\")\n",
    "print(vector3)\n",
    "print(\"Scalar product:\", dot_product)"
   ]
  },
  {
   "cell_type": "markdown",
   "metadata": {},
   "source": [
    "7. Create two matrices of size 2x2 and 2x3, fill them with random integers between 1 and 10, and multiply them together."
   ]
  },
  {
   "cell_type": "code",
   "execution_count": 26,
   "metadata": {},
   "outputs": [
    {
     "name": "stdout",
     "output_type": "stream",
     "text": [
      "\n",
      " First matrix 2x2:\n",
      "[[2 6]\n",
      " [4 1]]\n",
      "Second matrix 2x3:\n",
      "[[10  1  1]\n",
      " [ 1  5  3]]\n",
      "Multiplation matrix:\n",
      "[[26 32 20]\n",
      " [41  9  7]]\n"
     ]
    }
   ],
   "source": [
    "matrix4 = np.random.randint(1, 11, size=(2, 2))\n",
    "matrix5 = np.random.randint(1, 11, size=(2, 3))\n",
    "\n",
    "matrix_product = np.dot(matrix4, matrix5)\n",
    "print(\"\\n\", \"First matrix 2x2:\")\n",
    "print(matrix4)\n",
    "print(\"Second matrix 2x3:\")\n",
    "print(matrix5)\n",
    "print(\"Multiplation matrix:\")\n",
    "print(matrix_product)"
   ]
  },
  {
   "cell_type": "markdown",
   "metadata": {},
   "source": [
    "8. Create a 3x3 matrix, fill it with random integers from 1 to 10, and find its inverse."
   ]
  },
  {
   "cell_type": "code",
   "execution_count": 32,
   "metadata": {},
   "outputs": [
    {
     "name": "stdout",
     "output_type": "stream",
     "text": [
      "\n",
      " Matrix:\n",
      "[[1 1 4]\n",
      " [2 4 4]\n",
      " [3 5 6]]\n",
      "Inverse matrix:\n",
      "[[-1.  -3.5  3. ]\n",
      " [ 0.   1.5 -1. ]\n",
      " [ 0.5  0.5 -0.5]]\n"
     ]
    }
   ],
   "source": [
    "matrix6 = np.random.randint(1, 11, size=(3, 3))\n",
    "\n",
    "inverse_matrix = np.linalg.inv(matrix6)\n",
    "print(\"\\n\", \"Matrix:\")\n",
    "print(matrix6)\n",
    "print(\"Inverse matrix:\")\n",
    "print(inverse_matrix)"
   ]
  },
  {
   "cell_type": "markdown",
   "metadata": {},
   "source": [
    "9. Create a 4x4 matrix, fill it with random real numbers between 0 and 1, and transpose it."
   ]
  },
  {
   "cell_type": "code",
   "execution_count": 33,
   "metadata": {},
   "outputs": [
    {
     "name": "stdout",
     "output_type": "stream",
     "text": [
      "\n",
      " Matrix:\n",
      "[[0.16918364 0.79532091 0.42851998 0.67140243]\n",
      " [0.11905761 0.74215989 0.19470162 0.65461289]\n",
      " [0.71515329 0.02294968 0.54070978 0.90096984]\n",
      " [0.5251181  0.04077578 0.54816176 0.84146189]]\n",
      "Transposed matrix:\n",
      "[[0.16918364 0.11905761 0.71515329 0.5251181 ]\n",
      " [0.79532091 0.74215989 0.02294968 0.04077578]\n",
      " [0.42851998 0.19470162 0.54070978 0.54816176]\n",
      " [0.67140243 0.65461289 0.90096984 0.84146189]]\n"
     ]
    }
   ],
   "source": [
    "matrix7 = np.random.rand(4, 4)\n",
    "\n",
    "transposed_matrix = np.transpose(matrix7)\n",
    "print(\"\\n\", \"Matrix:\")\n",
    "print(matrix7)\n",
    "print(\"Transposed matrix:\")\n",
    "print(transposed_matrix)"
   ]
  },
  {
   "cell_type": "markdown",
   "metadata": {},
   "source": [
    "10. Create a 3x4 matrix and a vector with 4 shape, fill them with random integers between 1 and 10, and multiply the matrix by the vector."
   ]
  },
  {
   "cell_type": "code",
   "execution_count": 34,
   "metadata": {},
   "outputs": [
    {
     "name": "stdout",
     "output_type": "stream",
     "text": [
      "\n",
      " Matrix:\n",
      "[[ 9  3  3  8]\n",
      " [ 3  9  8  1]\n",
      " [ 8  1  3 10]]\n",
      "Vector:\n",
      "[2 2 4 5]\n",
      "Result:\n",
      "[76 61 80]\n"
     ]
    }
   ],
   "source": [
    "matrix8 = np.random.randint(1, 11, size=(3, 4))\n",
    "vector4 = np.random.randint(1, 11, size=4)\n",
    "\n",
    "result_vector = np.dot(matrix8, vector4)\n",
    "print(\"\\n\", \"Matrix:\")\n",
    "print(matrix8)\n",
    "print(\"Vector:\")\n",
    "print(vector4)\n",
    "print(\"Result:\")\n",
    "print(result_vector)"
   ]
  },
  {
   "cell_type": "markdown",
   "metadata": {},
   "source": [
    "11. Create a 2x3 matrix and a 3 vector, fill them with random real numbers between 0 and 1, and multiply the matrix by the vector."
   ]
  },
  {
   "cell_type": "code",
   "execution_count": 35,
   "metadata": {},
   "outputs": [
    {
     "name": "stdout",
     "output_type": "stream",
     "text": [
      "\n",
      " Matrix:\n",
      "[[0.22090105 0.88938481 0.94119613]\n",
      " [0.74447738 0.45663466 0.85305731]]\n",
      "Vecto:\n",
      "[0.77708611 0.9584567  0.89325085]\n",
      "Result:\n",
      "[1.86482022 1.77818174]\n"
     ]
    }
   ],
   "source": [
    "matrix9 = np.random.rand(2, 3)\n",
    "vector5 = np.random.rand(3)\n",
    "\n",
    "result_vector2 = np.dot(matrix9, vector5)\n",
    "print(\"\\n\", \"Matrix:\")\n",
    "print(matrix9)\n",
    "print(\"Vecto:\")\n",
    "print(vector5)\n",
    "print(\"Result:\")\n",
    "print(result_vector2)"
   ]
  },
  {
   "cell_type": "markdown",
   "metadata": {},
   "source": [
    "12. Create two 2x2 matrices, fill them with random integers between 1 and 10, and multiply them elementwise."
   ]
  },
  {
   "cell_type": "code",
   "execution_count": 36,
   "metadata": {},
   "outputs": [
    {
     "name": "stdout",
     "output_type": "stream",
     "text": [
      "\n",
      " First matrix:\n",
      "[[10  5]\n",
      " [ 3  6]]\n",
      "Second matrix:\n",
      "[[5 9]\n",
      " [6 2]]\n",
      "Result:\n",
      "[[50 45]\n",
      " [18 12]]\n"
     ]
    }
   ],
   "source": [
    "matrix10 = np.random.randint(1, 11, size=(2, 2))\n",
    "matrix11 = np.random.randint(1, 11, size=(2, 2))\n",
    "\n",
    "elementwise_multiplication = np.multiply(matrix10, matrix11)\n",
    "print(\"\\n\", \"First matrix:\")\n",
    "print(matrix10)\n",
    "print(\"Second matrix:\")\n",
    "print(matrix11)\n",
    "print(\"Result:\")\n",
    "print(elementwise_multiplication)"
   ]
  },
  {
   "cell_type": "markdown",
   "metadata": {},
   "source": [
    "13. Create two 2x2 matrices, fill them with random integers from 1 to 10, and find their product."
   ]
  },
  {
   "cell_type": "code",
   "execution_count": 37,
   "metadata": {},
   "outputs": [
    {
     "name": "stdout",
     "output_type": "stream",
     "text": [
      "\n",
      " First matrix:\n",
      "[[10  5]\n",
      " [ 3  6]]\n",
      "Second matrix:\n",
      "[[5 9]\n",
      " [6 2]]\n",
      "Result:\n",
      "[[ 80 100]\n",
      " [ 51  39]]\n"
     ]
    }
   ],
   "source": [
    "matrix_product2 = np.dot(matrix10, matrix11)\n",
    "print(\"\\n\", \"First matrix:\")\n",
    "print(matrix10)\n",
    "print(\"Second matrix:\")\n",
    "print(matrix11)\n",
    "print(\"Result:\")\n",
    "print(matrix_product2)"
   ]
  },
  {
   "cell_type": "markdown",
   "metadata": {},
   "source": [
    "14. Create a 5x5 matrix, fill it with random integers between 1 and 100, and find the sum of the matrix elements."
   ]
  },
  {
   "cell_type": "code",
   "execution_count": 39,
   "metadata": {},
   "outputs": [
    {
     "name": "stdout",
     "output_type": "stream",
     "text": [
      "\n",
      " Matrix:\n",
      "[[42 97  2 48 13]\n",
      " [30  3 30 83 97]\n",
      " [37 14 12 72 22]\n",
      " [39 99 58 13 81]\n",
      " [75 67 22 11 55]]\n",
      "Sum: 1122\n"
     ]
    }
   ],
   "source": [
    "matrix12 = np.random.randint(1, 101, size=(5, 5))\n",
    "\n",
    "sum_of_elements = np.sum(matrix12)\n",
    "print(\"\\n\", \"Matrix:\")\n",
    "print(matrix12)\n",
    "print(\"Sum:\", sum_of_elements)"
   ]
  },
  {
   "cell_type": "markdown",
   "metadata": {},
   "source": [
    "15. Create two 4x4 matrices, fill them with random integers between 1 and 10, and find their difference."
   ]
  },
  {
   "cell_type": "code",
   "execution_count": 41,
   "metadata": {},
   "outputs": [
    {
     "name": "stdout",
     "output_type": "stream",
     "text": [
      "\n",
      " First matrix:\n",
      "[[ 9  5  7  5]\n",
      " [ 7  2  4  5]\n",
      " [ 6  1 10  3]\n",
      " [ 1  5  3  5]]\n",
      "Second matrix:\n",
      "[[6 5 2 5]\n",
      " [3 7 7 9]\n",
      " [6 6 4 2]\n",
      " [5 7 2 6]]\n",
      "Difference:\n",
      "[[ 3  0  5  0]\n",
      " [ 4 -5 -3 -4]\n",
      " [ 0 -5  6  1]\n",
      " [-4 -2  1 -1]]\n"
     ]
    }
   ],
   "source": [
    "matrix13 = np.random.randint(1, 11, size=(4, 4))\n",
    "matrix14 = np.random.randint(1, 11, size=(4, 4))\n",
    "\n",
    "matrix_difference = matrix13 - matrix14\n",
    "print(\"\\n\", \"First matrix:\")\n",
    "print(matrix13)\n",
    "print(\"Second matrix:\")\n",
    "print(matrix14)\n",
    "print(\"Difference:\")\n",
    "print(matrix_difference)"
   ]
  },
  {
   "cell_type": "markdown",
   "metadata": {},
   "source": [
    "16. Create a 3x3 matrix, fill it with random real numbers in the range 0 to 1, and find a column vector containing the sum of the elements of each row of the matrix."
   ]
  },
  {
   "cell_type": "code",
   "execution_count": 44,
   "metadata": {},
   "outputs": [
    {
     "name": "stdout",
     "output_type": "stream",
     "text": [
      "\n",
      " Matrix:\n",
      "[[0.16229476 0.37347925 0.0609255 ]\n",
      " [0.71953881 0.12813244 0.35436186]\n",
      " [0.58296611 0.24053111 0.66378388]]\n",
      "Sum:\n",
      "[0.59669951 1.20203311 1.4872811 ]\n"
     ]
    }
   ],
   "source": [
    "matrix15 = np.random.rand(3, 3)\n",
    "\n",
    "sum_rows = np.sum(matrix15, axis=1)\n",
    "print(\"\\n\", \"Matrix:\")\n",
    "print(matrix15)\n",
    "print(\"Sum:\")\n",
    "print(sum_rows)"
   ]
  },
  {
   "cell_type": "markdown",
   "metadata": {},
   "source": [
    "17. Create a 3x4 matrix of arbitrary integers and create a matrix of the squares of those numbers."
   ]
  },
  {
   "cell_type": "code",
   "execution_count": 46,
   "metadata": {},
   "outputs": [
    {
     "name": "stdout",
     "output_type": "stream",
     "text": [
      "\n",
      " Matrix:\n",
      "[[2 3 6 8]\n",
      " [7 9 2 3]\n",
      " [1 4 3 4]]\n",
      "Squared matrix:\n",
      "[[ 4  9 36 64]\n",
      " [49 81  4  9]\n",
      " [ 1 16  9 16]]\n"
     ]
    }
   ],
   "source": [
    "matrix16 = np.random.randint(1, 11, size=(3, 4))\n",
    "\n",
    "squared_matrix = matrix16 ** 2\n",
    "print(\"\\n\", \"Matrix:\")\n",
    "print(matrix16)\n",
    "print(\"Squared matrix:\")\n",
    "print(squared_matrix)"
   ]
  },
  {
   "cell_type": "markdown",
   "metadata": {},
   "source": [
    "18. Create a vector of size 4, fill it with random integers between 1 and 50, and find the square root vector of those numbers."
   ]
  },
  {
   "cell_type": "code",
   "execution_count": 48,
   "metadata": {},
   "outputs": [
    {
     "name": "stdout",
     "output_type": "stream",
     "text": [
      "\n",
      " Vector:\n",
      "[25 36 26  9]\n",
      "Squered vector:\n",
      "[5.         6.         5.09901951 3.        ]\n"
     ]
    }
   ],
   "source": [
    "vector6 = np.random.randint(1, 51, size=4)\n",
    "\n",
    "squared_vector = np.sqrt(vector6)\n",
    "print(\"\\n\", \"Vector:\")\n",
    "print(vector6)\n",
    "print(\"Squered vector:\")\n",
    "print(squared_vector)"
   ]
  }
 ],
 "metadata": {
  "kernelspec": {
   "display_name": "Python 3 (ipykernel)",
   "language": "python",
   "name": "python3"
  },
  "language_info": {
   "codemirror_mode": {
    "name": "ipython",
    "version": 3
   },
   "file_extension": ".py",
   "mimetype": "text/x-python",
   "name": "python",
   "nbconvert_exporter": "python",
   "pygments_lexer": "ipython3",
   "version": "3.9.13"
  }
 },
 "nbformat": 4,
 "nbformat_minor": 2
}
